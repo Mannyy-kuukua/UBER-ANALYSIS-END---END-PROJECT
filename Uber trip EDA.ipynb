{
 "cells": [
  {
   "cell_type": "code",
   "execution_count": 1,
   "id": "6f9cd517-1146-4bd0-822a-036cd1fa5fdb",
   "metadata": {},
   "outputs": [
    {
     "name": "stdout",
     "output_type": "stream",
     "text": [
      "Defaulting to user installation because normal site-packages is not writeable\n",
      "Requirement already satisfied: mysql-connector-python in c:\\users\\fj\\appdata\\roaming\\python\\python313\\site-packages (9.3.0)\n",
      "Note: you may need to restart the kernel to use updated packages.\n"
     ]
    },
    {
     "name": "stderr",
     "output_type": "stream",
     "text": [
      "\n",
      "[notice] A new release of pip is available: 25.1.1 -> 25.2\n",
      "[notice] To update, run: python.exe -m pip install --upgrade pip\n"
     ]
    }
   ],
   "source": [
    "pip install mysql-connector-python\n"
   ]
  },
  {
   "cell_type": "markdown",
   "id": "232edf59",
   "metadata": {},
   "source": []
  },
  {
   "cell_type": "code",
   "execution_count": 2,
   "id": "5b09b52e-5890-4a10-b4d3-489cdb6632ff",
   "metadata": {},
   "outputs": [
    {
     "name": "stdout",
     "output_type": "stream",
     "text": [
      "Connected to MySQL database\n"
     ]
    }
   ],
   "source": [
    "import mysql.connector\n",
    "\n",
    "# Establish the connection\n",
    "connection = mysql.connector.connect(\n",
    "    host=\"localhost\",       # Replace with your MySQL server host\n",
    "    user=\"root\",   # Replace with your MySQL username\n",
    "    password=\"Root2507@\", # Replace with your MySQL password\n",
    "    \n",
    ")\n",
    "\n",
    "# Check if the connection is successful\n",
    "if connection.is_connected():\n",
    "    print(\"Connected to MySQL database\")\n"
   ]
  },
  {
   "cell_type": "code",
   "execution_count": 3,
   "id": "14c78085-dd4c-42c3-81a7-4c99465f06af",
   "metadata": {},
   "outputs": [],
   "source": [
    "import pandas as pd\n",
    "import numpy as np\n",
    "import matplotlib.pyplot as plt\n",
    "import seaborn as sns"
   ]
  },
  {
   "cell_type": "code",
   "execution_count": 4,
   "id": "5ccef4b9-35b4-45f6-945a-b1ecd2da4024",
   "metadata": {},
   "outputs": [
    {
     "name": "stderr",
     "output_type": "stream",
     "text": [
      "C:\\Users\\FJ\\AppData\\Local\\Temp\\ipykernel_21052\\4249562771.py:2: UserWarning: pandas only supports SQLAlchemy connectable (engine/connection) or database string URI or sqlite3 DBAPI2 connection. Other DBAPI2 objects are not tested. Please consider using SQLAlchemy.\n",
      "  df=pd.read_sql(query,connection)\n"
     ]
    },
    {
     "name": "stdout",
     "output_type": "stream",
     "text": [
      "        trip_id         pickup_time        dropoff_time  passenger_count  \\\n",
      "0             1 2024-06-01 00:42:00 2024-06-01 01:04:00                1   \n",
      "1             2 2024-06-01 00:06:00 2024-06-01 00:13:00                1   \n",
      "2             3 2024-06-01 00:08:00 2024-06-01 00:21:00                1   \n",
      "3             4 2024-06-01 00:28:00 2024-06-01 00:37:00                1   \n",
      "4             5 2024-06-01 00:38:00 2024-06-01 00:45:00                1   \n",
      "...         ...                 ...                 ...              ...   \n",
      "103723   116918 2024-06-30 23:17:00 2024-06-30 23:35:00                1   \n",
      "103724   116919 2024-06-30 23:08:00 2024-06-30 23:14:00                1   \n",
      "103725   116920 2024-06-30 23:38:00 2024-06-30 23:42:00                1   \n",
      "103726   116923 2024-06-30 23:57:00 2024-07-01 00:05:00                1   \n",
      "103727   116924 2024-06-30 23:08:00 2024-06-30 23:19:00                1   \n",
      "\n",
      "        trip_distance  pulocationid  dolocationid  fare_amount  surge_fee  \\\n",
      "0                5.60            79           226         19.5        2.0   \n",
      "1                1.72           142           186          8.0        0.0   \n",
      "2                3.41           229           238         13.0        0.0   \n",
      "3                1.81           188            35          9.0        0.0   \n",
      "4                1.89           100           137          8.0        0.0   \n",
      "...               ...           ...           ...          ...        ...   \n",
      "103723           9.40           138           243         27.0        0.0   \n",
      "103724           2.00           185            32          7.5        0.0   \n",
      "103725           1.30           162           237          6.0        3.0   \n",
      "103726           2.50           142           233         10.0        0.0   \n",
      "103727           6.91            70            42         19.5        0.0   \n",
      "\n",
      "           vehicle trip_detailspayment_type  \n",
      "0            UberX                 Uber Pay  \n",
      "1       Uber Black                     Cash  \n",
      "2       Uber Black                     Cash  \n",
      "3            UberX                     Cash  \n",
      "4       Uber Black                     Cash  \n",
      "...            ...                      ...  \n",
      "103723  Uber Black                 Uber Pay  \n",
      "103724  Uber Green                     Cash  \n",
      "103725       UberX                 Uber Pay  \n",
      "103726  Uber Green                     Cash  \n",
      "103727  Uber Black                 Uber Pay  \n",
      "\n",
      "[103728 rows x 11 columns]\n"
     ]
    }
   ],
   "source": [
    "query='SELECT * FROM trip_analysis.ubertrips'\n",
    "df=pd.read_sql(query,connection)\n",
    "print(df)"
   ]
  },
  {
   "cell_type": "code",
   "execution_count": 5,
   "id": "9411666a-50ac-4432-acdd-10773425a037",
   "metadata": {},
   "outputs": [
    {
     "name": "stdout",
     "output_type": "stream",
     "text": [
      "     LocationID                 Location                City\n",
      "0             1           Newark Airport  Newark, New Jersey\n",
      "1             2              Jamaica Bay              Queens\n",
      "2             3  Allerton/Pelham Gardens           The Bronx\n",
      "3             4            Alphabet City           Manhattan\n",
      "4             5            Arden Heights       Staten Island\n",
      "..          ...                      ...                 ...\n",
      "260       15164         05/06/2024 18:41    05/06/2024 18:52\n",
      "261         262           Yorkville East           Manhattan\n",
      "262         263           Yorkville West           Manhattan\n",
      "263       15166                       NV                 N/A\n",
      "264         265                       NA                 N/A\n",
      "\n",
      "[265 rows x 3 columns]\n"
     ]
    },
    {
     "name": "stderr",
     "output_type": "stream",
     "text": [
      "C:\\Users\\FJ\\AppData\\Local\\Temp\\ipykernel_21052\\693023807.py:3: UserWarning: pandas only supports SQLAlchemy connectable (engine/connection) or database string URI or sqlite3 DBAPI2 connection. Other DBAPI2 objects are not tested. Please consider using SQLAlchemy.\n",
      "  df1=pd.read_sql(q1,connection)\n"
     ]
    }
   ],
   "source": [
    "q1='SELECT * FROM trip_analysis.location;'\n",
    "\n",
    "df1=pd.read_sql(q1,connection)\n",
    "print(df1)"
   ]
  },
  {
   "cell_type": "code",
   "execution_count": 6,
   "id": "379a828f-b2c5-4ae4-ad3c-b5a2a8a680f0",
   "metadata": {},
   "outputs": [],
   "source": [
    "connection.close()"
   ]
  },
  {
   "cell_type": "markdown",
   "id": "e51817b9-2833-4315-af00-a3e7ab00b8d8",
   "metadata": {},
   "source": [
    " ## Looking into our data"
   ]
  },
  {
   "cell_type": "code",
   "execution_count": 7,
   "id": "49c3c87f-1e2d-44eb-b5f3-5553e8698173",
   "metadata": {},
   "outputs": [
    {
     "data": {
      "text/html": [
       "<div>\n",
       "<style scoped>\n",
       "    .dataframe tbody tr th:only-of-type {\n",
       "        vertical-align: middle;\n",
       "    }\n",
       "\n",
       "    .dataframe tbody tr th {\n",
       "        vertical-align: top;\n",
       "    }\n",
       "\n",
       "    .dataframe thead th {\n",
       "        text-align: right;\n",
       "    }\n",
       "</style>\n",
       "<table border=\"1\" class=\"dataframe\">\n",
       "  <thead>\n",
       "    <tr style=\"text-align: right;\">\n",
       "      <th></th>\n",
       "      <th>trip_id</th>\n",
       "      <th>pickup_time</th>\n",
       "      <th>dropoff_time</th>\n",
       "      <th>passenger_count</th>\n",
       "      <th>trip_distance</th>\n",
       "      <th>pulocationid</th>\n",
       "      <th>dolocationid</th>\n",
       "      <th>fare_amount</th>\n",
       "      <th>surge_fee</th>\n",
       "      <th>vehicle</th>\n",
       "      <th>trip_detailspayment_type</th>\n",
       "    </tr>\n",
       "  </thead>\n",
       "  <tbody>\n",
       "    <tr>\n",
       "      <th>0</th>\n",
       "      <td>1</td>\n",
       "      <td>2024-06-01 00:42:00</td>\n",
       "      <td>2024-06-01 01:04:00</td>\n",
       "      <td>1</td>\n",
       "      <td>5.60</td>\n",
       "      <td>79</td>\n",
       "      <td>226</td>\n",
       "      <td>19.5</td>\n",
       "      <td>2.0</td>\n",
       "      <td>UberX</td>\n",
       "      <td>Uber Pay</td>\n",
       "    </tr>\n",
       "    <tr>\n",
       "      <th>1</th>\n",
       "      <td>2</td>\n",
       "      <td>2024-06-01 00:06:00</td>\n",
       "      <td>2024-06-01 00:13:00</td>\n",
       "      <td>1</td>\n",
       "      <td>1.72</td>\n",
       "      <td>142</td>\n",
       "      <td>186</td>\n",
       "      <td>8.0</td>\n",
       "      <td>0.0</td>\n",
       "      <td>Uber Black</td>\n",
       "      <td>Cash</td>\n",
       "    </tr>\n",
       "    <tr>\n",
       "      <th>2</th>\n",
       "      <td>3</td>\n",
       "      <td>2024-06-01 00:08:00</td>\n",
       "      <td>2024-06-01 00:21:00</td>\n",
       "      <td>1</td>\n",
       "      <td>3.41</td>\n",
       "      <td>229</td>\n",
       "      <td>238</td>\n",
       "      <td>13.0</td>\n",
       "      <td>0.0</td>\n",
       "      <td>Uber Black</td>\n",
       "      <td>Cash</td>\n",
       "    </tr>\n",
       "    <tr>\n",
       "      <th>3</th>\n",
       "      <td>4</td>\n",
       "      <td>2024-06-01 00:28:00</td>\n",
       "      <td>2024-06-01 00:37:00</td>\n",
       "      <td>1</td>\n",
       "      <td>1.81</td>\n",
       "      <td>188</td>\n",
       "      <td>35</td>\n",
       "      <td>9.0</td>\n",
       "      <td>0.0</td>\n",
       "      <td>UberX</td>\n",
       "      <td>Cash</td>\n",
       "    </tr>\n",
       "    <tr>\n",
       "      <th>4</th>\n",
       "      <td>5</td>\n",
       "      <td>2024-06-01 00:38:00</td>\n",
       "      <td>2024-06-01 00:45:00</td>\n",
       "      <td>1</td>\n",
       "      <td>1.89</td>\n",
       "      <td>100</td>\n",
       "      <td>137</td>\n",
       "      <td>8.0</td>\n",
       "      <td>0.0</td>\n",
       "      <td>Uber Black</td>\n",
       "      <td>Cash</td>\n",
       "    </tr>\n",
       "  </tbody>\n",
       "</table>\n",
       "</div>"
      ],
      "text/plain": [
       "   trip_id         pickup_time        dropoff_time  passenger_count  \\\n",
       "0        1 2024-06-01 00:42:00 2024-06-01 01:04:00                1   \n",
       "1        2 2024-06-01 00:06:00 2024-06-01 00:13:00                1   \n",
       "2        3 2024-06-01 00:08:00 2024-06-01 00:21:00                1   \n",
       "3        4 2024-06-01 00:28:00 2024-06-01 00:37:00                1   \n",
       "4        5 2024-06-01 00:38:00 2024-06-01 00:45:00                1   \n",
       "\n",
       "   trip_distance  pulocationid  dolocationid  fare_amount  surge_fee  \\\n",
       "0           5.60            79           226         19.5        2.0   \n",
       "1           1.72           142           186          8.0        0.0   \n",
       "2           3.41           229           238         13.0        0.0   \n",
       "3           1.81           188            35          9.0        0.0   \n",
       "4           1.89           100           137          8.0        0.0   \n",
       "\n",
       "      vehicle trip_detailspayment_type  \n",
       "0       UberX                 Uber Pay  \n",
       "1  Uber Black                     Cash  \n",
       "2  Uber Black                     Cash  \n",
       "3       UberX                     Cash  \n",
       "4  Uber Black                     Cash  "
      ]
     },
     "execution_count": 7,
     "metadata": {},
     "output_type": "execute_result"
    }
   ],
   "source": [
    "df.head()"
   ]
  },
  {
   "cell_type": "code",
   "execution_count": 8,
   "id": "63c7763e-7d1b-4ceb-9d58-91fccb243fb5",
   "metadata": {},
   "outputs": [
    {
     "data": {
      "text/plain": [
       "Index(['trip_id', 'pickup_time', 'dropoff_time', 'passenger_count',\n",
       "       'trip_distance', 'pulocationid', 'dolocationid', 'fare_amount',\n",
       "       'surge_fee', 'vehicle', 'trip_detailspayment_type'],\n",
       "      dtype='object')"
      ]
     },
     "execution_count": 8,
     "metadata": {},
     "output_type": "execute_result"
    }
   ],
   "source": [
    "df.columns"
   ]
  },
  {
   "cell_type": "code",
   "execution_count": 9,
   "id": "25b00112-92d9-4cc5-b8c2-d157d0b67649",
   "metadata": {},
   "outputs": [
    {
     "data": {
      "text/plain": [
       "(103728, 11)"
      ]
     },
     "execution_count": 9,
     "metadata": {},
     "output_type": "execute_result"
    }
   ],
   "source": [
    "df.shape"
   ]
  },
  {
   "cell_type": "code",
   "execution_count": 10,
   "id": "08533db0-19c8-4a91-bf3b-d85ebebb8251",
   "metadata": {},
   "outputs": [
    {
     "name": "stdout",
     "output_type": "stream",
     "text": [
      "<class 'pandas.core.frame.DataFrame'>\n",
      "RangeIndex: 103728 entries, 0 to 103727\n",
      "Data columns (total 11 columns):\n",
      " #   Column                    Non-Null Count   Dtype         \n",
      "---  ------                    --------------   -----         \n",
      " 0   trip_id                   103728 non-null  int64         \n",
      " 1   pickup_time               103728 non-null  datetime64[ns]\n",
      " 2   dropoff_time              103728 non-null  datetime64[ns]\n",
      " 3   passenger_count           103728 non-null  int64         \n",
      " 4   trip_distance             103728 non-null  float64       \n",
      " 5   pulocationid              103728 non-null  int64         \n",
      " 6   dolocationid              103728 non-null  int64         \n",
      " 7   fare_amount               103728 non-null  float64       \n",
      " 8   surge_fee                 103728 non-null  float64       \n",
      " 9   vehicle                   103728 non-null  object        \n",
      " 10  trip_detailspayment_type  103728 non-null  object        \n",
      "dtypes: datetime64[ns](2), float64(3), int64(4), object(2)\n",
      "memory usage: 8.7+ MB\n"
     ]
    }
   ],
   "source": [
    "df.info()"
   ]
  },
  {
   "cell_type": "markdown",
   "id": "dc7d6382-9567-4976-b332-dc788dc044d0",
   "metadata": {},
   "source": [
    "# Descriptive statistics/ Univariate Analysis"
   ]
  },
  {
   "cell_type": "code",
   "execution_count": 11,
   "id": "3ef75d2b-8381-4c16-882b-ad9c6ece5b66",
   "metadata": {},
   "outputs": [
    {
     "data": {
      "text/html": [
       "<div>\n",
       "<style scoped>\n",
       "    .dataframe tbody tr th:only-of-type {\n",
       "        vertical-align: middle;\n",
       "    }\n",
       "\n",
       "    .dataframe tbody tr th {\n",
       "        vertical-align: top;\n",
       "    }\n",
       "\n",
       "    .dataframe thead th {\n",
       "        text-align: right;\n",
       "    }\n",
       "</style>\n",
       "<table border=\"1\" class=\"dataframe\">\n",
       "  <thead>\n",
       "    <tr style=\"text-align: right;\">\n",
       "      <th></th>\n",
       "      <th>trip_id</th>\n",
       "      <th>pickup_time</th>\n",
       "      <th>dropoff_time</th>\n",
       "      <th>passenger_count</th>\n",
       "      <th>trip_distance</th>\n",
       "      <th>pulocationid</th>\n",
       "      <th>dolocationid</th>\n",
       "      <th>fare_amount</th>\n",
       "      <th>surge_fee</th>\n",
       "    </tr>\n",
       "  </thead>\n",
       "  <tbody>\n",
       "    <tr>\n",
       "      <th>count</th>\n",
       "      <td>103728.000000</td>\n",
       "      <td>103728</td>\n",
       "      <td>103728</td>\n",
       "      <td>103728.000000</td>\n",
       "      <td>103728.000000</td>\n",
       "      <td>103728.000000</td>\n",
       "      <td>103728.000000</td>\n",
       "      <td>103728.000000</td>\n",
       "      <td>103728.000000</td>\n",
       "    </tr>\n",
       "    <tr>\n",
       "      <th>mean</th>\n",
       "      <td>57422.229196</td>\n",
       "      <td>2024-06-17 08:18:07.280772864</td>\n",
       "      <td>2024-06-17 08:33:59.035169024</td>\n",
       "      <td>1.412136</td>\n",
       "      <td>3.363931</td>\n",
       "      <td>159.241410</td>\n",
       "      <td>153.537907</td>\n",
       "      <td>12.998337</td>\n",
       "      <td>1.985260</td>\n",
       "    </tr>\n",
       "    <tr>\n",
       "      <th>min</th>\n",
       "      <td>1.000000</td>\n",
       "      <td>2024-06-01 00:00:00</td>\n",
       "      <td>2024-06-01 00:10:00</td>\n",
       "      <td>1.000000</td>\n",
       "      <td>1.010000</td>\n",
       "      <td>1.000000</td>\n",
       "      <td>1.000000</td>\n",
       "      <td>2.500000</td>\n",
       "      <td>0.000000</td>\n",
       "    </tr>\n",
       "    <tr>\n",
       "      <th>25%</th>\n",
       "      <td>27899.750000</td>\n",
       "      <td>2024-06-10 07:09:00</td>\n",
       "      <td>2024-06-10 07:21:45</td>\n",
       "      <td>1.000000</td>\n",
       "      <td>1.530000</td>\n",
       "      <td>107.000000</td>\n",
       "      <td>87.000000</td>\n",
       "      <td>7.500000</td>\n",
       "      <td>0.000000</td>\n",
       "    </tr>\n",
       "    <tr>\n",
       "      <th>50%</th>\n",
       "      <td>56618.500000</td>\n",
       "      <td>2024-06-17 19:37:00</td>\n",
       "      <td>2024-06-17 19:50:00</td>\n",
       "      <td>1.000000</td>\n",
       "      <td>2.280000</td>\n",
       "      <td>151.000000</td>\n",
       "      <td>151.000000</td>\n",
       "      <td>10.000000</td>\n",
       "      <td>2.000000</td>\n",
       "    </tr>\n",
       "    <tr>\n",
       "      <th>75%</th>\n",
       "      <td>86859.250000</td>\n",
       "      <td>2024-06-24 18:45:15</td>\n",
       "      <td>2024-06-24 18:58:00</td>\n",
       "      <td>1.000000</td>\n",
       "      <td>3.800000</td>\n",
       "      <td>234.000000</td>\n",
       "      <td>233.000000</td>\n",
       "      <td>14.500000</td>\n",
       "      <td>3.000000</td>\n",
       "    </tr>\n",
       "    <tr>\n",
       "      <th>max</th>\n",
       "      <td>116924.000000</td>\n",
       "      <td>2024-06-30 23:58:00</td>\n",
       "      <td>2024-07-01 17:21:00</td>\n",
       "      <td>6.000000</td>\n",
       "      <td>144.100000</td>\n",
       "      <td>265.000000</td>\n",
       "      <td>265.000000</td>\n",
       "      <td>563.790000</td>\n",
       "      <td>118.000000</td>\n",
       "    </tr>\n",
       "    <tr>\n",
       "      <th>std</th>\n",
       "      <td>33812.530174</td>\n",
       "      <td>NaN</td>\n",
       "      <td>NaN</td>\n",
       "      <td>1.031418</td>\n",
       "      <td>3.192828</td>\n",
       "      <td>68.133216</td>\n",
       "      <td>73.585841</td>\n",
       "      <td>9.078582</td>\n",
       "      <td>2.429827</td>\n",
       "    </tr>\n",
       "  </tbody>\n",
       "</table>\n",
       "</div>"
      ],
      "text/plain": [
       "             trip_id                    pickup_time  \\\n",
       "count  103728.000000                         103728   \n",
       "mean    57422.229196  2024-06-17 08:18:07.280772864   \n",
       "min         1.000000            2024-06-01 00:00:00   \n",
       "25%     27899.750000            2024-06-10 07:09:00   \n",
       "50%     56618.500000            2024-06-17 19:37:00   \n",
       "75%     86859.250000            2024-06-24 18:45:15   \n",
       "max    116924.000000            2024-06-30 23:58:00   \n",
       "std     33812.530174                            NaN   \n",
       "\n",
       "                        dropoff_time  passenger_count  trip_distance  \\\n",
       "count                         103728    103728.000000  103728.000000   \n",
       "mean   2024-06-17 08:33:59.035169024         1.412136       3.363931   \n",
       "min              2024-06-01 00:10:00         1.000000       1.010000   \n",
       "25%              2024-06-10 07:21:45         1.000000       1.530000   \n",
       "50%              2024-06-17 19:50:00         1.000000       2.280000   \n",
       "75%              2024-06-24 18:58:00         1.000000       3.800000   \n",
       "max              2024-07-01 17:21:00         6.000000     144.100000   \n",
       "std                              NaN         1.031418       3.192828   \n",
       "\n",
       "        pulocationid   dolocationid    fare_amount      surge_fee  \n",
       "count  103728.000000  103728.000000  103728.000000  103728.000000  \n",
       "mean      159.241410     153.537907      12.998337       1.985260  \n",
       "min         1.000000       1.000000       2.500000       0.000000  \n",
       "25%       107.000000      87.000000       7.500000       0.000000  \n",
       "50%       151.000000     151.000000      10.000000       2.000000  \n",
       "75%       234.000000     233.000000      14.500000       3.000000  \n",
       "max       265.000000     265.000000     563.790000     118.000000  \n",
       "std        68.133216      73.585841       9.078582       2.429827  "
      ]
     },
     "execution_count": 11,
     "metadata": {},
     "output_type": "execute_result"
    }
   ],
   "source": [
    "df.describe()"
   ]
  },
  {
   "cell_type": "markdown",
   "id": "24761068-2ae2-4fef-8187-14235e1687a0",
   "metadata": {},
   "source": [
    "## Checking for null values\n"
   ]
  },
  {
   "cell_type": "code",
   "execution_count": 12,
   "id": "edceb70f-a577-42a5-a345-9d735e763ac6",
   "metadata": {},
   "outputs": [
    {
     "data": {
      "text/plain": [
       "trip_id                     0\n",
       "pickup_time                 0\n",
       "dropoff_time                0\n",
       "passenger_count             0\n",
       "trip_distance               0\n",
       "pulocationid                0\n",
       "dolocationid                0\n",
       "fare_amount                 0\n",
       "surge_fee                   0\n",
       "vehicle                     0\n",
       "trip_detailspayment_type    0\n",
       "dtype: int64"
      ]
     },
     "execution_count": 12,
     "metadata": {},
     "output_type": "execute_result"
    }
   ],
   "source": [
    "pd.isnull(df).sum()"
   ]
  },
  {
   "cell_type": "markdown",
   "id": "83e5db5f-43a0-4527-a845-37b61d0b8621",
   "metadata": {},
   "source": [
    "## Setting up the revenue column"
   ]
  },
  {
   "cell_type": "code",
   "execution_count": 13,
   "id": "1981a51f-a3fb-46eb-be61-5b9a0830c88f",
   "metadata": {},
   "outputs": [
    {
     "data": {
      "text/plain": [
       "0         21.5\n",
       "1          8.0\n",
       "2         13.0\n",
       "3          9.0\n",
       "4          8.0\n",
       "          ... \n",
       "103723    27.0\n",
       "103724     7.5\n",
       "103725     9.0\n",
       "103726    10.0\n",
       "103727    19.5\n",
       "Name: total_revenue, Length: 103728, dtype: float64"
      ]
     },
     "execution_count": 13,
     "metadata": {},
     "output_type": "execute_result"
    }
   ],
   "source": [
    "df['total_revenue']=df['fare_amount']+df['surge_fee']\n",
    "df['total_revenue']"
   ]
  },
  {
   "cell_type": "markdown",
   "id": "a4075858-9367-452d-9e26-73099de8e627",
   "metadata": {},
   "source": [
    "## Descripitive analysis for our revenue column"
   ]
  },
  {
   "cell_type": "code",
   "execution_count": 14,
   "id": "cb571ff6-7cc1-4cc8-98e4-70beed31b371",
   "metadata": {},
   "outputs": [
    {
     "data": {
      "text/plain": [
       "count    103728.000000\n",
       "mean         14.983596\n",
       "std          10.111491\n",
       "min           2.500000\n",
       "25%           9.000000\n",
       "50%          12.000000\n",
       "75%          17.000000\n",
       "max         563.790000\n",
       "Name: total_revenue, dtype: float64"
      ]
     },
     "execution_count": 14,
     "metadata": {},
     "output_type": "execute_result"
    }
   ],
   "source": [
    "df['total_revenue'].describe()"
   ]
  },
  {
   "cell_type": "markdown",
   "id": "733d7de4-1406-48c7-9b10-761d37833e95",
   "metadata": {},
   "source": [
    "### Add a few columns to our data"
   ]
  },
  {
   "cell_type": "markdown",
   "id": "f0c48eba-6e55-47f3-8699-85315bb6f18b",
   "metadata": {},
   "source": [
    "##### Day of week"
   ]
  },
  {
   "cell_type": "code",
   "execution_count": 15,
   "id": "bb4a88db-81a1-4626-b2b4-3dbbc69c3900",
   "metadata": {},
   "outputs": [
    {
     "data": {
      "text/plain": [
       "0         Saturday\n",
       "1         Saturday\n",
       "2         Saturday\n",
       "3         Saturday\n",
       "4         Saturday\n",
       "            ...   \n",
       "103723      Sunday\n",
       "103724      Sunday\n",
       "103725      Sunday\n",
       "103726      Sunday\n",
       "103727      Sunday\n",
       "Name: weekday, Length: 103728, dtype: object"
      ]
     },
     "execution_count": 15,
     "metadata": {},
     "output_type": "execute_result"
    }
   ],
   "source": [
    "#day of the week with most rides-- daily trend\n",
    "df['weekday']=df['pickup_time'].dt.day_name()\n",
    "df['weekday']"
   ]
  },
  {
   "cell_type": "markdown",
   "id": "34685a60-b02b-4ad1-89b5-bfd155f03203",
   "metadata": {},
   "source": [
    "##### Month with most rides -- monthly trend"
   ]
  },
  {
   "cell_type": "code",
   "execution_count": 16,
   "id": "325d6d90-89af-452b-9a96-faf1c5578593",
   "metadata": {},
   "outputs": [
    {
     "data": {
      "text/plain": [
       "0         June\n",
       "1         June\n",
       "2         June\n",
       "3         June\n",
       "4         June\n",
       "          ... \n",
       "103723    June\n",
       "103724    June\n",
       "103725    June\n",
       "103726    June\n",
       "103727    June\n",
       "Name: month, Length: 103728, dtype: object"
      ]
     },
     "execution_count": 16,
     "metadata": {},
     "output_type": "execute_result"
    }
   ],
   "source": [
    "#data on the month of june only\n",
    "df['month']=df['pickup_time'].dt.month_name()\n",
    "df['month']"
   ]
  },
  {
   "cell_type": "markdown",
   "id": "ed97b1a9-bf1e-40b2-8def-6b58e107b53e",
   "metadata": {},
   "source": [
    "##### Trips by hour"
   ]
  },
  {
   "cell_type": "code",
   "execution_count": 17,
   "id": "957a14e9-3072-4ae2-890f-bee6520f4849",
   "metadata": {},
   "outputs": [
    {
     "data": {
      "text/plain": [
       "0          0\n",
       "1          0\n",
       "2          0\n",
       "3          0\n",
       "4          0\n",
       "          ..\n",
       "103723    23\n",
       "103724    23\n",
       "103725    23\n",
       "103726    23\n",
       "103727    23\n",
       "Name: hour, Length: 103728, dtype: int32"
      ]
     },
     "execution_count": 17,
     "metadata": {},
     "output_type": "execute_result"
    }
   ],
   "source": [
    "df['hour']=df['pickup_time'].dt.hour\n",
    "df['hour']"
   ]
  },
  {
   "cell_type": "markdown",
   "id": "2f9e8f72-9d8a-454e-aad4-278b15fa2c01",
   "metadata": {},
   "source": [
    "##### Weekly \n",
    "###### There are 4/5 weeks in a month ,this is to help with weekly analysis"
   ]
  },
  {
   "cell_type": "code",
   "execution_count": 18,
   "id": "3cfe4fb5-fe83-4941-ae60-4fb0819e7d7b",
   "metadata": {},
   "outputs": [
    {
     "data": {
      "text/plain": [
       "0         22\n",
       "1         22\n",
       "2         22\n",
       "3         22\n",
       "4         22\n",
       "          ..\n",
       "103723    26\n",
       "103724    26\n",
       "103725    26\n",
       "103726    26\n",
       "103727    26\n",
       "Name: weekly, Length: 103728, dtype: UInt32"
      ]
     },
     "execution_count": 18,
     "metadata": {},
     "output_type": "execute_result"
    }
   ],
   "source": [
    "df['weekly']=df['pickup_time'].dt.isocalendar().week\n",
    "df['weekly']"
   ]
  },
  {
   "cell_type": "markdown",
   "id": "d316e893-3bf9-4d58-ae20-1d04525881c8",
   "metadata": {},
   "source": [
    "## Customization of visuals"
   ]
  },
  {
   "cell_type": "code",
   "execution_count": 19,
   "id": "89491dc2-f7ae-4f2e-9b02-9ec2263e2f92",
   "metadata": {},
   "outputs": [],
   "source": [
    "sns.set_style('dark')"
   ]
  },
  {
   "cell_type": "code",
   "execution_count": 20,
   "id": "783bca5b",
   "metadata": {},
   "outputs": [
    {
     "data": {
      "image/png": "[encoded data removed]",
      "text/plain": [
       "<Figure size 640x480 with 1 Axes>"
      ]
     },
     "metadata": {},
     "output_type": "display_data"
    },
    {
     "data": {
      "text/plain": [
       "<Figure size 800x600 with 0 Axes>"
      ]
     },
     "metadata": {},
     "output_type": "display_data"
    }
   ],
   "source": [
    "hourly_trips=df.groupby('hour')['pickup_time'].count()\n",
    "sns.lineplot(x=hourly_trips.index,y=hourly_trips.values,color='pink')\n",
    "plt.title(\"Trip Hour\")\n",
    "plt.xlabel('Hour')\n",
    "plt.ylabel('Trips')\n",
    "plt.xticks(range(0,24),rotation=90)\n",
    "plt.figure(figsize=(8,6))\n",
    "plt.show()"
   ]
  },
  {
   "cell_type": "code",
   "execution_count": 21,
   "id": "f6aada9f-e1ae-4165-af09-8b80668f4b9e",
   "metadata": {},
   "outputs": [
    {
     "data": {
      "image/png": "[encoded data removed]",
      "text/plain": [
       "<Figure size 640x480 with 1 Axes>"
      ]
     },
     "metadata": {},
     "output_type": "display_data"
    },
    {
     "data": {
      "text/plain": [
       "<Figure size 800x600 with 0 Axes>"
      ]
     },
     "metadata": {},
     "output_type": "display_data"
    },
    {
     "data": {
      "image/png": "[encoded data removed]",
      "text/plain": [
       "<Figure size 640x480 with 1 Axes>"
      ]
     },
     "metadata": {},
     "output_type": "display_data"
    },
    {
     "data": {
      "text/plain": [
       "<Figure size 800x600 with 0 Axes>"
      ]
     },
     "metadata": {},
     "output_type": "display_data"
    }
   ],
   "source": [
    "weekly_trips=df.groupby('weekly')['pickup_time'].count()\n",
    "sns.barplot(x=weekly_trips.index,y=weekly_trips.values,color='pink')\n",
    "plt.title(\"weekly trips\")\n",
    "plt.xlabel('Week')\n",
    "plt.ylabel('Trips')\n",
    "plt.figure(figsize=(8,6))\n",
    "plt.show()\n",
    "sns.lineplot(weekly_trips,color='pink')\n",
    "plt.title(\"weekly trips\")\n",
    "plt.xlabel('Week')\n",
    "plt.ylabel('Trips')\n",
    "plt.figure(figsize=(8,6))\n",
    "plt.show()"
   ]
  },
  {
   "cell_type": "code",
   "execution_count": 22,
   "id": "bdb38d47-1961-4ef7-8cfa-eaa2078bfe00",
   "metadata": {},
   "outputs": [
    {
     "data": {
      "text/plain": [
       "weekly\n",
       "22     84076.00\n",
       "23    301823.16\n",
       "24    338008.50\n",
       "25    383524.04\n",
       "26    446786.75\n",
       "Name: total_revenue, dtype: float64"
      ]
     },
     "execution_count": 22,
     "metadata": {},
     "output_type": "execute_result"
    }
   ],
   "source": [
    "sales=df.groupby('weekly')['total_revenue'].sum()\n",
    "sales"
   ]
  },
  {
   "cell_type": "code",
   "execution_count": 23,
   "id": "e1875f43-9b93-4b73-94ff-5d06fc5b4e34",
   "metadata": {},
   "outputs": [
    {
     "data": {
      "image/png": "[encoded data removed]",
      "text/plain": [
       "<Figure size 640x480 with 1 Axes>"
      ]
     },
     "metadata": {},
     "output_type": "display_data"
    },
    {
     "data": {
      "text/plain": [
       "<Figure size 800x600 with 0 Axes>"
      ]
     },
     "metadata": {},
     "output_type": "display_data"
    }
   ],
   "source": [
    "sns.barplot(sales,color='pink')\n",
    "plt.title('Sales Per Week')\n",
    "plt.xlabel('Week')\n",
    "plt.ylabel('Total_Revenue')\n",
    "plt.figure(figsize=(8,6))\n",
    "plt.show()"
   ]
  },
  {
   "cell_type": "code",
   "execution_count": 24,
   "id": "960e8050-3288-420c-b914-27da458f50d2",
   "metadata": {},
   "outputs": [
    {
     "data": {
      "image/png": "[encoded data removed]",
      "text/plain": [
       "<Figure size 640x480 with 1 Axes>"
      ]
     },
     "metadata": {},
     "output_type": "display_data"
    },
    {
     "data": {
      "text/plain": [
       "<Figure size 800x600 with 0 Axes>"
      ]
     },
     "metadata": {},
     "output_type": "display_data"
    }
   ],
   "source": [
    "weekday_trips=df.groupby('weekday')['trip_id'].count()\n",
    "sns.lineplot(weekday_trips,color='pink')\n",
    "plt.title(\"Day trips\")\n",
    "plt.xlabel('Days')\n",
    "plt.ylabel('Trips')\n",
    "plt.figure(figsize=(8,6))\n",
    "plt.show()"
   ]
  },
  {
   "cell_type": "code",
   "execution_count": 25,
   "id": "fb9c355f-40eb-48d6-9078-4c11c2e1186a",
   "metadata": {},
   "outputs": [
    {
     "data": {
      "text/plain": [
       "weekday\n",
       "Sunday       282813.70\n",
       "Saturday     276298.45\n",
       "Wednesday    238636.50\n",
       "Tuesday      224421.96\n",
       "Monday       212902.70\n",
       "Thursday     172718.12\n",
       "Friday       146427.02\n",
       "Name: total_revenue, dtype: float64"
      ]
     },
     "execution_count": 25,
     "metadata": {},
     "output_type": "execute_result"
    }
   ],
   "source": [
    "#days when the most revenue is made\n",
    "df.groupby('weekday')['total_revenue'].sum().sort_values(ascending=False)"
   ]
  },
  {
   "cell_type": "code",
   "execution_count": 26,
   "id": "c56a090c-658a-4f7b-a8a5-a3bfac1caf14",
   "metadata": {},
   "outputs": [
    {
     "data": {
      "text/plain": [
       "weekly  weekday  \n",
       "22      Saturday     43874.50\n",
       "        Sunday       40201.50\n",
       "23      Friday       32995.50\n",
       "        Monday       36565.00\n",
       "        Saturday     50837.50\n",
       "        Sunday       54923.20\n",
       "        Thursday     39557.00\n",
       "        Tuesday      41596.96\n",
       "        Wednesday    45348.00\n",
       "24      Friday       30489.50\n",
       "        Monday       53263.50\n",
       "        Saturday     50376.00\n",
       "        Sunday       52551.00\n",
       "        Thursday     40051.00\n",
       "        Tuesday      54391.00\n",
       "        Wednesday    56886.50\n",
       "25      Friday       38465.50\n",
       "        Monday       54683.70\n",
       "        Saturday     62485.00\n",
       "        Sunday       65220.00\n",
       "        Thursday     42393.34\n",
       "        Tuesday      57687.50\n",
       "        Wednesday    62589.00\n",
       "26      Friday       44476.52\n",
       "        Monday       68390.50\n",
       "        Saturday     68725.45\n",
       "        Sunday       69918.00\n",
       "        Thursday     50716.78\n",
       "        Tuesday      70746.50\n",
       "        Wednesday    73813.00\n",
       "Name: total_revenue, dtype: float64"
      ]
     },
     "execution_count": 26,
     "metadata": {},
     "output_type": "execute_result"
    }
   ],
   "source": [
    "weekly_sales=df.groupby(['weekly','weekday'])['total_revenue'].sum()\n",
    "weekly_sales"
   ]
  },
  {
   "cell_type": "markdown",
   "id": "f3c5c7d6-d9a7-49f5-b3c3-ff88b62de282",
   "metadata": {},
   "source": [
    "### Trip duration"
   ]
  },
  {
   "cell_type": "code",
   "execution_count": 27,
   "id": "7163638b-f0b2-44ef-90aa-f08c6c69d9d7",
   "metadata": {},
   "outputs": [
    {
     "data": {
      "text/plain": [
       "0         22.0\n",
       "1          7.0\n",
       "2         13.0\n",
       "3          9.0\n",
       "4          7.0\n",
       "          ... \n",
       "103723    18.0\n",
       "103724     6.0\n",
       "103725     4.0\n",
       "103726     8.0\n",
       "103727    11.0\n",
       "Name: trip_duration, Length: 103728, dtype: float64"
      ]
     },
     "execution_count": 27,
     "metadata": {},
     "output_type": "execute_result"
    }
   ],
   "source": [
    "df['trip_duration']=(df['dropoff_time']-df['pickup_time']).dt.total_seconds()/60\n",
    "df['trip_duration']"
   ]
  },
  {
   "cell_type": "code",
   "execution_count": 28,
   "id": "50b21028-420c-441a-ae8d-74b138fb73d2",
   "metadata": {},
   "outputs": [
    {
     "data": {
      "text/plain": [
       "weekday\n",
       "Sunday       307492.0\n",
       "Saturday     290392.0\n",
       "Wednesday    248808.0\n",
       "Tuesday      247056.0\n",
       "Monday       234152.0\n",
       "Thursday     174744.0\n",
       "Friday       142749.0\n",
       "Name: trip_duration, dtype: float64"
      ]
     },
     "execution_count": 28,
     "metadata": {},
     "output_type": "execute_result"
    }
   ],
   "source": [
    "#total duration covered weekly\n",
    "df.groupby('weekday')['trip_duration'].sum().sort_values(ascending=False)"
   ]
  },
  {
   "cell_type": "markdown",
   "id": "2f486c95-9f5f-4c93-808f-ac6750f20e88",
   "metadata": {},
   "source": [
    "### Trips made by various Vehicles"
   ]
  },
  {
   "cell_type": "code",
   "execution_count": 29,
   "id": "acf459c0-1240-492d-be5d-b2eb3e069fce",
   "metadata": {},
   "outputs": [
    {
     "data": {
      "text/plain": [
       "vehicle\n",
       "UberX           38744\n",
       "Uber Comfort    17078\n",
       "Uber Black      16710\n",
       "UberXL          16698\n",
       "Uber Green      14498\n",
       "Name: trip_id, dtype: int64"
      ]
     },
     "execution_count": 29,
     "metadata": {},
     "output_type": "execute_result"
    }
   ],
   "source": [
    "trip_count=df.groupby('vehicle')['trip_id'].count()\n",
    "sorted_trip_count=trip_count.sort_values(ascending=False)\n",
    "sorted_trip_count"
   ]
  },
  {
   "cell_type": "code",
   "execution_count": 30,
   "id": "cfeff24d-3d75-40b4-90d9-903818b5d49d",
   "metadata": {},
   "outputs": [
    {
     "data": {
      "image/png": "[encoded data removed]",
      "text/plain": [
       "<Figure size 640x480 with 1 Axes>"
      ]
     },
     "metadata": {},
     "output_type": "display_data"
    },
    {
     "data": {
      "text/plain": [
       "<Figure size 800x600 with 0 Axes>"
      ]
     },
     "metadata": {},
     "output_type": "display_data"
    }
   ],
   "source": [
    "sns.barplot(sorted_trip_count,color='pink')\n",
    "plt.title('Trip by Cars')\n",
    "plt.xlabel('Cars')\n",
    "plt.ylabel('Trips')\n",
    "plt.figure(figsize=(8,6))\n",
    "plt.show()"
   ]
  },
  {
   "cell_type": "markdown",
   "id": "f06a56f1-a101-44bb-ab7c-70e067e12b9d",
   "metadata": {},
   "source": [
    "### Revenue Generated by various vehicles"
   ]
  },
  {
   "cell_type": "code",
   "execution_count": 31,
   "id": "16b6d6b1-20e9-4f8c-8f60-57020caf5dfa",
   "metadata": {},
   "outputs": [
    {
     "data": {
      "text/plain": [
       "vehicle\n",
       "UberX           584047.77\n",
       "Uber Comfort    254102.98\n",
       "Uber Black      250316.00\n",
       "UberXL          249519.50\n",
       "Uber Green      216232.20\n",
       "Name: total_revenue, dtype: float64"
      ]
     },
     "execution_count": 31,
     "metadata": {},
     "output_type": "execute_result"
    }
   ],
   "source": [
    "#which cars generated the most revenue \n",
    "car_rev= df.groupby('vehicle')['total_revenue'].sum().sort_values(ascending=False)\n",
    "car_rev"
   ]
  },
  {
   "cell_type": "code",
   "execution_count": 32,
   "id": "987807e0-071e-4b44-9507-dd99cd68dd3b",
   "metadata": {},
   "outputs": [
    {
     "data": {
      "image/png": "[encoded data removed]",
      "text/plain": [
       "<Figure size 640x480 with 1 Axes>"
      ]
     },
     "metadata": {},
     "output_type": "display_data"
    }
   ],
   "source": [
    "car_rev.plot(kind='pie',autopct='%2.2f%%',colors=['lightgreen','lightpink','hotpink','purple','violet' ],explode=[0.025,0.025,0.025,0.05,0.05],shadow=True)\n",
    "plt.title('Reveue_Per_Car')\n",
    "plt.ylabel([])\n",
    "plt.show()"
   ]
  },
  {
   "cell_type": "code",
   "execution_count": 33,
   "id": "9a2c993e-432c-47f8-b47e-96b7a1d801f5",
   "metadata": {},
   "outputs": [
    {
     "name": "stdout",
     "output_type": "stream",
     "text": [
      "trip_detailspayment_type\n",
      "Uber Pay      69530\n",
      "Cash          33434\n",
      "Amazon Pay      584\n",
      "Google Pay      180\n",
      "Name: trip_id, dtype: int64\n"
     ]
    }
   ],
   "source": [
    "payment_method=df.groupby('trip_detailspayment_type')['trip_id'].count()\n",
    "ordered_pm=payment_method.sort_values(ascending=False)\n",
    "print(ordered_pm)"
   ]
  },
  {
   "cell_type": "code",
   "execution_count": 34,
   "id": "47f06b9a-dbce-40fd-ad7f-2f5690b6d4d1",
   "metadata": {},
   "outputs": [
    {
     "data": {
      "image/png": "[encoded data removed]",
      "text/plain": [
       "<Figure size 800x600 with 1 Axes>"
      ]
     },
     "metadata": {},
     "output_type": "display_data"
    }
   ],
   "source": [
    "plt.figure(figsize=(8,6))\n",
    "payment_method.plot(kind='pie',autopct='%2.2f%%',colors=['lightpink','purple','lightpink','hotpink'],shadow=True)\n",
    "plt.title('PAYMENT METHOD')\n",
    "plt.ylabel([])\n",
    "plt.show()"
   ]
  },
  {
   "cell_type": "code",
   "execution_count": 35,
   "id": "1f1ba0eb-76e3-479d-aec5-e658a60bed57",
   "metadata": {},
   "outputs": [
    {
     "data": {
      "text/html": [
       "<div>\n",
       "<style scoped>\n",
       "    .dataframe tbody tr th:only-of-type {\n",
       "        vertical-align: middle;\n",
       "    }\n",
       "\n",
       "    .dataframe tbody tr th {\n",
       "        vertical-align: top;\n",
       "    }\n",
       "\n",
       "    .dataframe thead th {\n",
       "        text-align: right;\n",
       "    }\n",
       "</style>\n",
       "<table border=\"1\" class=\"dataframe\">\n",
       "  <thead>\n",
       "    <tr style=\"text-align: right;\">\n",
       "      <th></th>\n",
       "      <th>LocationID</th>\n",
       "      <th>Location</th>\n",
       "      <th>City</th>\n",
       "    </tr>\n",
       "  </thead>\n",
       "  <tbody>\n",
       "    <tr>\n",
       "      <th>0</th>\n",
       "      <td>1</td>\n",
       "      <td>Newark Airport</td>\n",
       "      <td>Newark, New Jersey</td>\n",
       "    </tr>\n",
       "  </tbody>\n",
       "</table>\n",
       "</div>"
      ],
      "text/plain": [
       "   LocationID        Location                City\n",
       "0           1  Newark Airport  Newark, New Jersey"
      ]
     },
     "execution_count": 35,
     "metadata": {},
     "output_type": "execute_result"
    }
   ],
   "source": [
    "df1.head(1)"
   ]
  },
  {
   "cell_type": "code",
   "execution_count": 36,
   "id": "84cc9957-d652-4fd1-8bd7-e456badff2c0",
   "metadata": {},
   "outputs": [
    {
     "data": {
      "text/html": [
       "<div>\n",
       "<style scoped>\n",
       "    .dataframe tbody tr th:only-of-type {\n",
       "        vertical-align: middle;\n",
       "    }\n",
       "\n",
       "    .dataframe tbody tr th {\n",
       "        vertical-align: top;\n",
       "    }\n",
       "\n",
       "    .dataframe thead th {\n",
       "        text-align: right;\n",
       "    }\n",
       "</style>\n",
       "<table border=\"1\" class=\"dataframe\">\n",
       "  <thead>\n",
       "    <tr style=\"text-align: right;\">\n",
       "      <th></th>\n",
       "      <th>LocationID</th>\n",
       "      <th>Location</th>\n",
       "      <th>City</th>\n",
       "      <th>trip_id</th>\n",
       "      <th>pickup_time</th>\n",
       "      <th>dropoff_time</th>\n",
       "      <th>passenger_count</th>\n",
       "      <th>trip_distance</th>\n",
       "      <th>pulocationid</th>\n",
       "      <th>dolocationid</th>\n",
       "      <th>fare_amount</th>\n",
       "      <th>surge_fee</th>\n",
       "      <th>vehicle</th>\n",
       "      <th>trip_detailspayment_type</th>\n",
       "      <th>total_revenue</th>\n",
       "      <th>weekday</th>\n",
       "      <th>month</th>\n",
       "      <th>hour</th>\n",
       "      <th>weekly</th>\n",
       "      <th>trip_duration</th>\n",
       "    </tr>\n",
       "  </thead>\n",
       "  <tbody>\n",
       "    <tr>\n",
       "      <th>0</th>\n",
       "      <td>1</td>\n",
       "      <td>Newark Airport</td>\n",
       "      <td>Newark, New Jersey</td>\n",
       "      <td>1</td>\n",
       "      <td>2024-06-01 00:42:00</td>\n",
       "      <td>2024-06-01 01:04:00</td>\n",
       "      <td>1</td>\n",
       "      <td>5.60</td>\n",
       "      <td>79</td>\n",
       "      <td>226</td>\n",
       "      <td>19.5</td>\n",
       "      <td>2.0</td>\n",
       "      <td>UberX</td>\n",
       "      <td>Uber Pay</td>\n",
       "      <td>21.5</td>\n",
       "      <td>Saturday</td>\n",
       "      <td>June</td>\n",
       "      <td>0</td>\n",
       "      <td>22</td>\n",
       "      <td>22.0</td>\n",
       "    </tr>\n",
       "    <tr>\n",
       "      <th>1</th>\n",
       "      <td>2</td>\n",
       "      <td>Jamaica Bay</td>\n",
       "      <td>Queens</td>\n",
       "      <td>2</td>\n",
       "      <td>2024-06-01 00:06:00</td>\n",
       "      <td>2024-06-01 00:13:00</td>\n",
       "      <td>1</td>\n",
       "      <td>1.72</td>\n",
       "      <td>142</td>\n",
       "      <td>186</td>\n",
       "      <td>8.0</td>\n",
       "      <td>0.0</td>\n",
       "      <td>Uber Black</td>\n",
       "      <td>Cash</td>\n",
       "      <td>8.0</td>\n",
       "      <td>Saturday</td>\n",
       "      <td>June</td>\n",
       "      <td>0</td>\n",
       "      <td>22</td>\n",
       "      <td>7.0</td>\n",
       "    </tr>\n",
       "    <tr>\n",
       "      <th>2</th>\n",
       "      <td>3</td>\n",
       "      <td>Allerton/Pelham Gardens</td>\n",
       "      <td>The Bronx</td>\n",
       "      <td>3</td>\n",
       "      <td>2024-06-01 00:08:00</td>\n",
       "      <td>2024-06-01 00:21:00</td>\n",
       "      <td>1</td>\n",
       "      <td>3.41</td>\n",
       "      <td>229</td>\n",
       "      <td>238</td>\n",
       "      <td>13.0</td>\n",
       "      <td>0.0</td>\n",
       "      <td>Uber Black</td>\n",
       "      <td>Cash</td>\n",
       "      <td>13.0</td>\n",
       "      <td>Saturday</td>\n",
       "      <td>June</td>\n",
       "      <td>0</td>\n",
       "      <td>22</td>\n",
       "      <td>13.0</td>\n",
       "    </tr>\n",
       "    <tr>\n",
       "      <th>3</th>\n",
       "      <td>4</td>\n",
       "      <td>Alphabet City</td>\n",
       "      <td>Manhattan</td>\n",
       "      <td>4</td>\n",
       "      <td>2024-06-01 00:28:00</td>\n",
       "      <td>2024-06-01 00:37:00</td>\n",
       "      <td>1</td>\n",
       "      <td>1.81</td>\n",
       "      <td>188</td>\n",
       "      <td>35</td>\n",
       "      <td>9.0</td>\n",
       "      <td>0.0</td>\n",
       "      <td>UberX</td>\n",
       "      <td>Cash</td>\n",
       "      <td>9.0</td>\n",
       "      <td>Saturday</td>\n",
       "      <td>June</td>\n",
       "      <td>0</td>\n",
       "      <td>22</td>\n",
       "      <td>9.0</td>\n",
       "    </tr>\n",
       "    <tr>\n",
       "      <th>4</th>\n",
       "      <td>5</td>\n",
       "      <td>Arden Heights</td>\n",
       "      <td>Staten Island</td>\n",
       "      <td>5</td>\n",
       "      <td>2024-06-01 00:38:00</td>\n",
       "      <td>2024-06-01 00:45:00</td>\n",
       "      <td>1</td>\n",
       "      <td>1.89</td>\n",
       "      <td>100</td>\n",
       "      <td>137</td>\n",
       "      <td>8.0</td>\n",
       "      <td>0.0</td>\n",
       "      <td>Uber Black</td>\n",
       "      <td>Cash</td>\n",
       "      <td>8.0</td>\n",
       "      <td>Saturday</td>\n",
       "      <td>June</td>\n",
       "      <td>0</td>\n",
       "      <td>22</td>\n",
       "      <td>7.0</td>\n",
       "    </tr>\n",
       "    <tr>\n",
       "      <th>...</th>\n",
       "      <td>...</td>\n",
       "      <td>...</td>\n",
       "      <td>...</td>\n",
       "      <td>...</td>\n",
       "      <td>...</td>\n",
       "      <td>...</td>\n",
       "      <td>...</td>\n",
       "      <td>...</td>\n",
       "      <td>...</td>\n",
       "      <td>...</td>\n",
       "      <td>...</td>\n",
       "      <td>...</td>\n",
       "      <td>...</td>\n",
       "      <td>...</td>\n",
       "      <td>...</td>\n",
       "      <td>...</td>\n",
       "      <td>...</td>\n",
       "      <td>...</td>\n",
       "      <td>...</td>\n",
       "      <td>...</td>\n",
       "    </tr>\n",
       "    <tr>\n",
       "      <th>260</th>\n",
       "      <td>15164</td>\n",
       "      <td>05/06/2024 18:41</td>\n",
       "      <td>05/06/2024 18:52</td>\n",
       "      <td>262</td>\n",
       "      <td>2024-06-01 07:14:00</td>\n",
       "      <td>2024-06-01 07:20:00</td>\n",
       "      <td>1</td>\n",
       "      <td>2.00</td>\n",
       "      <td>236</td>\n",
       "      <td>162</td>\n",
       "      <td>8.0</td>\n",
       "      <td>2.0</td>\n",
       "      <td>UberXL</td>\n",
       "      <td>Uber Pay</td>\n",
       "      <td>10.0</td>\n",
       "      <td>Saturday</td>\n",
       "      <td>June</td>\n",
       "      <td>7</td>\n",
       "      <td>22</td>\n",
       "      <td>6.0</td>\n",
       "    </tr>\n",
       "    <tr>\n",
       "      <th>261</th>\n",
       "      <td>262</td>\n",
       "      <td>Yorkville East</td>\n",
       "      <td>Manhattan</td>\n",
       "      <td>263</td>\n",
       "      <td>2024-06-01 07:37:00</td>\n",
       "      <td>2024-06-01 07:47:00</td>\n",
       "      <td>1</td>\n",
       "      <td>3.40</td>\n",
       "      <td>262</td>\n",
       "      <td>170</td>\n",
       "      <td>12.0</td>\n",
       "      <td>3.0</td>\n",
       "      <td>UberX</td>\n",
       "      <td>Uber Pay</td>\n",
       "      <td>15.0</td>\n",
       "      <td>Saturday</td>\n",
       "      <td>June</td>\n",
       "      <td>7</td>\n",
       "      <td>22</td>\n",
       "      <td>10.0</td>\n",
       "    </tr>\n",
       "    <tr>\n",
       "      <th>262</th>\n",
       "      <td>263</td>\n",
       "      <td>Yorkville West</td>\n",
       "      <td>Manhattan</td>\n",
       "      <td>264</td>\n",
       "      <td>2024-06-01 07:34:00</td>\n",
       "      <td>2024-06-01 07:46:00</td>\n",
       "      <td>3</td>\n",
       "      <td>3.59</td>\n",
       "      <td>107</td>\n",
       "      <td>43</td>\n",
       "      <td>12.5</td>\n",
       "      <td>4.0</td>\n",
       "      <td>UberXL</td>\n",
       "      <td>Uber Pay</td>\n",
       "      <td>16.5</td>\n",
       "      <td>Saturday</td>\n",
       "      <td>June</td>\n",
       "      <td>7</td>\n",
       "      <td>22</td>\n",
       "      <td>12.0</td>\n",
       "    </tr>\n",
       "    <tr>\n",
       "      <th>263</th>\n",
       "      <td>15166</td>\n",
       "      <td>NV</td>\n",
       "      <td>N/A</td>\n",
       "      <td>265</td>\n",
       "      <td>2024-06-01 07:50:00</td>\n",
       "      <td>2024-06-01 07:59:00</td>\n",
       "      <td>1</td>\n",
       "      <td>2.88</td>\n",
       "      <td>143</td>\n",
       "      <td>90</td>\n",
       "      <td>10.5</td>\n",
       "      <td>3.0</td>\n",
       "      <td>UberX</td>\n",
       "      <td>Uber Pay</td>\n",
       "      <td>13.5</td>\n",
       "      <td>Saturday</td>\n",
       "      <td>June</td>\n",
       "      <td>7</td>\n",
       "      <td>22</td>\n",
       "      <td>9.0</td>\n",
       "    </tr>\n",
       "    <tr>\n",
       "      <th>264</th>\n",
       "      <td>265</td>\n",
       "      <td>NA</td>\n",
       "      <td>N/A</td>\n",
       "      <td>266</td>\n",
       "      <td>2024-06-01 07:44:00</td>\n",
       "      <td>2024-06-01 08:00:00</td>\n",
       "      <td>2</td>\n",
       "      <td>7.96</td>\n",
       "      <td>140</td>\n",
       "      <td>244</td>\n",
       "      <td>23.5</td>\n",
       "      <td>5.0</td>\n",
       "      <td>UberX</td>\n",
       "      <td>Uber Pay</td>\n",
       "      <td>28.5</td>\n",
       "      <td>Saturday</td>\n",
       "      <td>June</td>\n",
       "      <td>7</td>\n",
       "      <td>22</td>\n",
       "      <td>16.0</td>\n",
       "    </tr>\n",
       "  </tbody>\n",
       "</table>\n",
       "<p>265 rows × 20 columns</p>\n",
       "</div>"
      ],
      "text/plain": [
       "     LocationID                 Location                City  trip_id  \\\n",
       "0             1           Newark Airport  Newark, New Jersey        1   \n",
       "1             2              Jamaica Bay              Queens        2   \n",
       "2             3  Allerton/Pelham Gardens           The Bronx        3   \n",
       "3             4            Alphabet City           Manhattan        4   \n",
       "4             5            Arden Heights       Staten Island        5   \n",
       "..          ...                      ...                 ...      ...   \n",
       "260       15164         05/06/2024 18:41    05/06/2024 18:52      262   \n",
       "261         262           Yorkville East           Manhattan      263   \n",
       "262         263           Yorkville West           Manhattan      264   \n",
       "263       15166                       NV                 N/A      265   \n",
       "264         265                       NA                 N/A      266   \n",
       "\n",
       "            pickup_time        dropoff_time  passenger_count  trip_distance  \\\n",
       "0   2024-06-01 00:42:00 2024-06-01 01:04:00                1           5.60   \n",
       "1   2024-06-01 00:06:00 2024-06-01 00:13:00                1           1.72   \n",
       "2   2024-06-01 00:08:00 2024-06-01 00:21:00                1           3.41   \n",
       "3   2024-06-01 00:28:00 2024-06-01 00:37:00                1           1.81   \n",
       "4   2024-06-01 00:38:00 2024-06-01 00:45:00                1           1.89   \n",
       "..                  ...                 ...              ...            ...   \n",
       "260 2024-06-01 07:14:00 2024-06-01 07:20:00                1           2.00   \n",
       "261 2024-06-01 07:37:00 2024-06-01 07:47:00                1           3.40   \n",
       "262 2024-06-01 07:34:00 2024-06-01 07:46:00                3           3.59   \n",
       "263 2024-06-01 07:50:00 2024-06-01 07:59:00                1           2.88   \n",
       "264 2024-06-01 07:44:00 2024-06-01 08:00:00                2           7.96   \n",
       "\n",
       "     pulocationid  dolocationid  fare_amount  surge_fee     vehicle  \\\n",
       "0              79           226         19.5        2.0       UberX   \n",
       "1             142           186          8.0        0.0  Uber Black   \n",
       "2             229           238         13.0        0.0  Uber Black   \n",
       "3             188            35          9.0        0.0       UberX   \n",
       "4             100           137          8.0        0.0  Uber Black   \n",
       "..            ...           ...          ...        ...         ...   \n",
       "260           236           162          8.0        2.0      UberXL   \n",
       "261           262           170         12.0        3.0       UberX   \n",
       "262           107            43         12.5        4.0      UberXL   \n",
       "263           143            90         10.5        3.0       UberX   \n",
       "264           140           244         23.5        5.0       UberX   \n",
       "\n",
       "    trip_detailspayment_type  total_revenue   weekday month  hour  weekly  \\\n",
       "0                   Uber Pay           21.5  Saturday  June     0      22   \n",
       "1                       Cash            8.0  Saturday  June     0      22   \n",
       "2                       Cash           13.0  Saturday  June     0      22   \n",
       "3                       Cash            9.0  Saturday  June     0      22   \n",
       "4                       Cash            8.0  Saturday  June     0      22   \n",
       "..                       ...            ...       ...   ...   ...     ...   \n",
       "260                 Uber Pay           10.0  Saturday  June     7      22   \n",
       "261                 Uber Pay           15.0  Saturday  June     7      22   \n",
       "262                 Uber Pay           16.5  Saturday  June     7      22   \n",
       "263                 Uber Pay           13.5  Saturday  June     7      22   \n",
       "264                 Uber Pay           28.5  Saturday  June     7      22   \n",
       "\n",
       "     trip_duration  \n",
       "0             22.0  \n",
       "1              7.0  \n",
       "2             13.0  \n",
       "3              9.0  \n",
       "4              7.0  \n",
       "..             ...  \n",
       "260            6.0  \n",
       "261           10.0  \n",
       "262           12.0  \n",
       "263            9.0  \n",
       "264           16.0  \n",
       "\n",
       "[265 rows x 20 columns]"
      ]
     },
     "execution_count": 36,
     "metadata": {},
     "output_type": "execute_result"
    }
   ],
   "source": [
    "loc=df1.join(df)\n",
    "loc"
   ]
  },
  {
   "cell_type": "markdown",
   "id": "dbfba0bb-dbec-454e-8a53-f0c7c531cd6d",
   "metadata": {},
   "source": [
    "### Find the most picked up location and drop off location\n"
   ]
  },
  {
   "cell_type": "code",
   "execution_count": 42,
   "id": "d79a0413-1638-43b9-a591-43ac4b5ca66e",
   "metadata": {},
   "outputs": [
    {
     "data": {
      "text/plain": [
       "LocationID  Location                 City         \n",
       "55          Coney Island             Brooklyn         264\n",
       "194         Randalls Island          Manhattan        264\n",
       "179         Old Astoria              Queens           264\n",
       "238         Upper West Side North    Manhattan        264\n",
       "136         Kingsbridge Heights      Manhattan        263\n",
       "                                                     ... \n",
       "6           Arrochar/Fort Wadsworth  Staten Island     41\n",
       "15041       Cobble Hill              Brooklyn          35\n",
       "15078       Fordham South            Queens            28\n",
       "140         Lenox Hill East          Queens            24\n",
       "15038       05/06/2024 18:39         The Bronx         24\n",
       "Name: pulocationid, Length: 265, dtype: int64"
      ]
     },
     "execution_count": 42,
     "metadata": {},
     "output_type": "execute_result"
    }
   ],
   "source": [
    "pul=loc.groupby(['LocationID','Location','City'])['pulocationid'].sum().sort_values(ascending=False)\n",
    "pul\n"
   ]
  },
  {
   "cell_type": "code",
   "execution_count": 45,
   "id": "f6d4beac-2520-4066-96d3-f7a5b225f181",
   "metadata": {},
   "outputs": [
    {
     "data": {
      "text/plain": [
       "LocationID  Location                                       City         \n",
       "238         Upper West Side North                          Manhattan        264\n",
       "55          Coney Island                                   Brooklyn         264\n",
       "105         Governor's Island/Ellis Island/Liberty Island  Brooklyn         263\n",
       "173         North Corona                                   Manhattan        262\n",
       "245         West Brighton                                  Staten Island    261\n",
       "                                                                           ... \n",
       "15033       Claremont/Bathgate                             The Bronx         17\n",
       "15064       East New York/Pennsylvania Avenue              The Bronx         16\n",
       "15036       05/06/2024 18:10                               Manhattan          7\n",
       "212         Soundview/Bruckner                             Bronx              7\n",
       "147         Longwood                                       Brooklyn           4\n",
       "Name: dolocationid, Length: 265, dtype: int64"
      ]
     },
     "execution_count": 45,
     "metadata": {},
     "output_type": "execute_result"
    }
   ],
   "source": [
    "loc.groupby(['LocationID','Location','City'])['dolocationid'].sum().sort_values(ascending=False)"
   ]
  },
  {
   "cell_type": "code",
   "execution_count": 40,
   "id": "1e9ef7cc-ff63-4770-8ef7-ac892a7732aa",
   "metadata": {},
   "outputs": [],
   "source": [
    "df.to_csv(\"trip analysis\",index=False)"
   ]
  },
  {
   "cell_type": "code",
   "execution_count": 43,
   "id": "9f7d81f3",
   "metadata": {},
   "outputs": [],
   "source": [
    "pul.to_csv(\"pickup_location_analysis.csv\")"
   ]
  },
  {
   "cell_type": "code",
   "execution_count": 46,
   "id": "2459c327",
   "metadata": {},
   "outputs": [],
   "source": [
    "loc.to_csv('joined data.csv')"
   ]
  }
 ],
 "metadata": {
  "kernelspec": {
   "display_name": "Python 3",
   "language": "python",
   "name": "python3"
  },
  "language_info": {
   "codemirror_mode": {
    "name": "ipython",
    "version": 3
   },
   "file_extension": ".py",
   "mimetype": "text/x-python",
   "name": "python",
   "nbconvert_exporter": "python",
   "pygments_lexer": "ipython3",
   "version": "3.13.5"
  }
 },
 "nbformat": 4,
 "nbformat_minor": 5
}
